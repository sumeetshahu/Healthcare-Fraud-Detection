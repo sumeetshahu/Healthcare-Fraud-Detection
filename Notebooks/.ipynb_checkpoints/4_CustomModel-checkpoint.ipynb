{
 "cells": [
  {
   "cell_type": "markdown",
   "id": "86236042",
   "metadata": {},
   "source": [
    "# Custom Models"
   ]
  },
  {
   "cell_type": "code",
   "execution_count": 1,
   "id": "b80da21c",
   "metadata": {},
   "outputs": [],
   "source": [
    "import random\n",
    "import os\n",
    "import pandas as pd\n",
    "import numpy as np\n",
    "import matplotlib.pyplot as plt\n",
    "import seaborn as sns\n",
    "from sklearn.model_selection import train_test_split\n",
    "from sklearn.metrics import f1_score, roc_curve, precision_score, recall_score, confusion_matrix, auc\n",
    "from imblearn.over_sampling import RandomOverSampler, SMOTE\n",
    "from sklearn.model_selection import cross_val_score\n",
    "from sklearn.model_selection import GridSearchCV\n",
    "from sklearn.preprocessing import StandardScaler\n",
    "from joblib import dump, load\n",
    "from sklearn.tree import DecisionTreeClassifier\n",
    "from sklearn.linear_model import LogisticRegression\n",
    "from sklearn.svm import SVC\n",
    "import lightgbm\n",
    "from sklearn.ensemble import RandomForestClassifier"
   ]
  },
  {
   "cell_type": "markdown",
   "id": "0faafbba",
   "metadata": {},
   "source": [
    "# 1. Train-Test Split(80:20)"
   ]
  },
  {
   "cell_type": "code",
   "execution_count": 2,
   "id": "1d867bf2",
   "metadata": {},
   "outputs": [
    {
     "name": "stdout",
     "output_type": "stream",
     "text": [
      "Shape of train data:  (4328, 33)\n",
      "Shape of test data:  (1082, 33)\n"
     ]
    }
   ],
   "source": [
    "df = pd.read_csv(\"D:/AI/Case_Studies/Personal_Case_Study_1/Data/Processed/final_train_data.csv\")\n",
    "X =  df.drop(['Provider', 'PotentialFraud'], axis=1)\n",
    "Y = df['PotentialFraud'].values\n",
    "X_train, X_test, y_train, y_test = train_test_split(X, Y, test_size=0.2, stratify=Y, random_state=42)\n",
    "print(\"Shape of train data: \", X_train.shape)\n",
    "print(\"Shape of test data: \", X_test.shape)"
   ]
  },
  {
   "cell_type": "code",
   "execution_count": 3,
   "id": "6db9ebbd",
   "metadata": {},
   "outputs": [],
   "source": [
    "# Scaling data\n",
    "s = StandardScaler()\n",
    "X_train = s.fit_transform(X_train)\n",
    "X_test = s.transform(X_test)"
   ]
  },
  {
   "cell_type": "markdown",
   "id": "38726569",
   "metadata": {},
   "source": [
    "# 2. Splitting train data(50:50)"
   ]
  },
  {
   "cell_type": "code",
   "execution_count": 4,
   "id": "629a3d3d",
   "metadata": {},
   "outputs": [
    {
     "name": "stdout",
     "output_type": "stream",
     "text": [
      "Shape of train data:  (2164, 33)\n",
      "Shape of test data:  (2164, 33)\n"
     ]
    }
   ],
   "source": [
    "D1_50, D2_50, y1_50, y2_50 = train_test_split(X_train, y_train, test_size=0.5, stratify=y_train, random_state=42)\n",
    "print(\"Shape of train data: \", D1_50.shape)\n",
    "print(\"Shape of test data: \", D2_50.shape)"
   ]
  },
  {
   "cell_type": "markdown",
   "id": "9d7b3379",
   "metadata": {},
   "source": [
    "# 3. Creating k models"
   ]
  },
  {
   "cell_type": "code",
   "execution_count": 4,
   "id": "e5903488",
   "metadata": {},
   "outputs": [],
   "source": [
    "def get_kmodels(x, y, k, size):\n",
    "    '''This function generates creates k random samples from data\n",
    "       and then fits k different models on them'''\n",
    "    models = []\n",
    "    for i in range(k):\n",
    "        indices = np.random.choice(len(x), size, replace=True)\n",
    "        xi, yi = x[indices], y[indices]\n",
    "        model = LogisticRegression(C=0.23357214690901212, class_weight='balanced',\n",
    "                                   max_iter=1000).fit(xi, yi)\n",
    "        models.append(model)\n",
    "    return models"
   ]
  },
  {
   "cell_type": "markdown",
   "id": "6c32abdc",
   "metadata": {},
   "source": [
    "# 4. Stacked Classifiers on metadata with k predictions"
   ]
  },
  {
   "cell_type": "code",
   "execution_count": 4,
   "id": "5fc8e10b",
   "metadata": {},
   "outputs": [],
   "source": [
    "def generate_data(x, models):\n",
    "    '''This function generates metadata with k predictions of k models'''\n",
    "    res_x = []\n",
    "    for model in models:\n",
    "        res_x.append(model.predict(x))\n",
    "    res_x = np.array(res_x).T\n",
    "    \n",
    "    return res_x"
   ]
  },
  {
   "cell_type": "markdown",
   "id": "faca6d81",
   "metadata": {},
   "source": [
    "## 4.1 lightgbm as Stack Classifier"
   ]
  },
  {
   "cell_type": "code",
   "execution_count": 7,
   "id": "8f83f99e",
   "metadata": {},
   "outputs": [
    {
     "name": "stdout",
     "output_type": "stream",
     "text": [
      "Fitting 3 folds for each of 35 candidates, totalling 105 fits\n",
      "Fitting 3 folds for each of 35 candidates, totalling 105 fits\n",
      "Fitting 3 folds for each of 35 candidates, totalling 105 fits\n",
      "Fitting 3 folds for each of 35 candidates, totalling 105 fits\n",
      "Fitting 3 folds for each of 35 candidates, totalling 105 fits\n",
      "\n",
      "Results for lightgbm model\n",
      "k:  [20, 50, 100, 200, 500]\n",
      "F1 score:  [0.5747677965520788, 0.5894558708669617, 0.5838896989230808, 0.6015234908423763, 0.6009600614439324]\n",
      "\n",
      "LGBMClassifier(class_weight='balanced', learning_rate=0.7, n_estimators=300)\n"
     ]
    }
   ],
   "source": [
    "# Hypertuning 'k' using lightgbm as as Stack Classifier\n",
    "\n",
    "scores = []\n",
    "lightgbm_models = []\n",
    "\n",
    "for k in [20, 50, 100, 200, 500]:\n",
    "    #Generating models\n",
    "    models = get_kmodels(D1_50, y1_50, k, 1200)\n",
    "    # Generating meta-data\n",
    "    x_meta = generate_data(D2_50, models)\n",
    "    y_meta = y2_50\n",
    "\n",
    "    clf = GridSearchCV(lightgbm.LGBMClassifier(class_weight='balanced'),\n",
    "                       param_grid = {'learning_rate': [0.001, 0.002, 0.005, 0.1, 0.3, 0.5, 0.7],\n",
    "                                     'n_estimators': [50, 100, 200, 300, 500]},\n",
    "                       scoring='f1', verbose=1,\n",
    "                       n_jobs=-1, cv=3)\n",
    "\n",
    "    clf.fit(x_meta, y_meta)\n",
    "    scores.append(clf.best_score_)\n",
    "    lightgbm_models.append(clf.best_estimator_)\n",
    "    \n",
    "\n",
    "print()\n",
    "print(\"Results for lightgbm model\")\n",
    "print(\"k: \", [20, 50, 100, 200, 500])\n",
    "print(\"F1 score: \", scores)\n",
    "print()\n",
    "print(lightgbm_models[np.argmax(scores)])"
   ]
  },
  {
   "cell_type": "markdown",
   "id": "aaa6d81e",
   "metadata": {},
   "source": [
    "## Observations:\n",
    "<ul>\n",
    "    <li> Best F1 score of 0.601 for lighgbm as stack classifier was obtained for k = 200 </li>\n",
    "</ul>"
   ]
  },
  {
   "cell_type": "markdown",
   "id": "786759d0",
   "metadata": {},
   "source": [
    "## 4.2 RandomForest as Stack Classifier"
   ]
  },
  {
   "cell_type": "code",
   "execution_count": 10,
   "id": "2f22d94e",
   "metadata": {},
   "outputs": [
    {
     "name": "stdout",
     "output_type": "stream",
     "text": [
      "Fitting 3 folds for each of 72 candidates, totalling 216 fits\n",
      "Fitting 3 folds for each of 72 candidates, totalling 216 fits\n",
      "Fitting 3 folds for each of 72 candidates, totalling 216 fits\n",
      "Fitting 3 folds for each of 72 candidates, totalling 216 fits\n",
      "Fitting 3 folds for each of 72 candidates, totalling 216 fits\n",
      "\n",
      "Results for RandomForest model\n",
      "k:  [20, 50, 100, 200, 500]\n",
      "F1 score:  [0.6273674242424243, 0.6205641945773525, 0.6327646864728896, 0.6164835328354815, 0.6324043051330617]\n",
      "\n",
      "RandomForestClassifier(class_weight='balanced', n_estimators=1000)\n"
     ]
    }
   ],
   "source": [
    "# Hypertuning 'k' using RandomForest as as Stack Classifier\n",
    "\n",
    "scores = []\n",
    "forest_models = []\n",
    "\n",
    "for k in [20, 50, 100, 200, 500]:\n",
    "    # Generating models\n",
    "    models = get_kmodels(D1_50, y1_50, 500, 1200)\n",
    "    # Generating meta-data\n",
    "    x_meta = generate_data(D2_50, models)\n",
    "    y_meta = y2_50\n",
    "\n",
    "    clf = GridSearchCV(RandomForestClassifier(class_weight='balanced'),\n",
    "                       param_grid = {'n_estimators': [50, 100, 200, 300, 500, 1000],\n",
    "                                     'max_depth': [5, 10, 50, None],\n",
    "                                     'max_features': ['auto', 'sqrt', 'log2']},\n",
    "                       scoring='f1', verbose=1,\n",
    "                       n_jobs=-1, cv=3)\n",
    "\n",
    "\n",
    "    clf.fit(x_meta, y_meta)\n",
    "    scores.append(clf.best_score_)\n",
    "    forest_models.append(clf.best_estimator_)\n",
    "    \n",
    "\n",
    "print()\n",
    "print(\"Results for RandomForest model\")\n",
    "print(\"k: \", [20, 50, 100, 200, 500])\n",
    "print(\"F1 score: \", scores)\n",
    "print()\n",
    "best_forest = forest_models[np.argmax(scores)]\n",
    "print(best_forest)"
   ]
  },
  {
   "cell_type": "markdown",
   "id": "0c3f7cfb",
   "metadata": {},
   "source": [
    "## Observations:\n",
    "<ul>\n",
    "    <li> Best F1 score of 0.6328 for RandomForest as stack classifier was obtained for k = 100 </li>\n",
    "    <li> RandomForest Classifier performed better than lightgbm. </li>\n",
    "</ul>"
   ]
  },
  {
   "cell_type": "markdown",
   "id": "2e90525e",
   "metadata": {},
   "source": [
    "## 4.3 SVM as Stack Classifier"
   ]
  },
  {
   "cell_type": "code",
   "execution_count": 11,
   "id": "9864dbaa",
   "metadata": {},
   "outputs": [
    {
     "name": "stdout",
     "output_type": "stream",
     "text": [
      "Fitting 3 folds for each of 75 candidates, totalling 225 fits\n",
      "Fitting 3 folds for each of 75 candidates, totalling 225 fits\n",
      "Fitting 3 folds for each of 75 candidates, totalling 225 fits\n",
      "Fitting 3 folds for each of 75 candidates, totalling 225 fits\n",
      "Fitting 3 folds for each of 75 candidates, totalling 225 fits\n",
      "\n",
      "Results for SVM model\n",
      "k:  [20, 50, 100, 200, 500]\n",
      "F1 score:  [0.625450435233044, 0.6145907859078591, 0.6177848202843911, 0.6267348640043986, 0.6205608117372822]\n",
      "\n",
      "SVC(C=5.623413251903491, class_weight='balanced', gamma=0.022758459260747887,\n",
      "    probability=True)\n"
     ]
    }
   ],
   "source": [
    "# Hypertuning 'k' using SVM as as Stack Classifier\n",
    "\n",
    "scores = []\n",
    "svm_models = []\n",
    "\n",
    "for k in [20, 50, 100, 200, 500]:\n",
    "    # Generating models\n",
    "    models = get_kmodels(D1_50, y1_50, 500, 1200)\n",
    "    # Generating meta-data\n",
    "    x_meta = generate_data(D2_50, models)\n",
    "    y_meta = y2_50\n",
    "\n",
    "    c_range = np.logspace(-3, 2, 5)\n",
    "    gamma = np.logspace(-2, 3, 15)\n",
    "\n",
    "    clf = GridSearchCV(SVC(class_weight='balanced', probability=True),\n",
    "                       param_grid = {'C':c_range, 'gamma':gamma},\n",
    "                       scoring='f1', verbose=1,\n",
    "                       n_jobs=-1, cv=3)\n",
    "\n",
    "\n",
    "    clf.fit(x_meta, y_meta)\n",
    "    scores.append(clf.best_score_)\n",
    "    svm_models.append(clf.best_estimator_)\n",
    "    \n",
    "\n",
    "print()\n",
    "print(\"Results for SVM model\")\n",
    "print(\"k: \", [20, 50, 100, 200, 500])\n",
    "print(\"F1 score: \", scores)\n",
    "print()\n",
    "best_svm = svm_models[np.argmax(\n",
    "    scores)]\n",
    "print(best_svm)"
   ]
  },
  {
   "cell_type": "markdown",
   "id": "04d8bfa8",
   "metadata": {},
   "source": [
    "## Observations:\n",
    "<ul>\n",
    "    <li> Best F1 score of 0.6267 for SVM as stack classifier was obtained for k = 200 </li>\n",
    "    <li> RandomForest model gave the best results as a Stack Classifier. </li>\n",
    "</ul>"
   ]
  },
  {
   "cell_type": "markdown",
   "id": "2927c608",
   "metadata": {},
   "source": [
    "## 4.4 Custom models comparison"
   ]
  },
  {
   "cell_type": "code",
   "execution_count": 12,
   "id": "b188bbfc",
   "metadata": {},
   "outputs": [
    {
     "name": "stdout",
     "output_type": "stream",
     "text": [
      "+-----------------+------------+-------------+\n",
      "|    Model Name   | Value of k | CV F1 Score |\n",
      "+-----------------+------------+-------------+\n",
      "|   LR+lightgbm   |    200     |    0.6015   |\n",
      "| LR+RandomForest |    100     |    0.6328   |\n",
      "|      LR+SVM     |    200     |    0.6267   |\n",
      "+-----------------+------------+-------------+\n"
     ]
    }
   ],
   "source": [
    "from prettytable import PrettyTable\n",
    "tb = PrettyTable()\n",
    "tb.field_names= (\"Model Name\", \"Value of k\", \"CV F1 Score\")\n",
    "tb.add_row([\"LR+lightgbm\", 200, 0.6015])\n",
    "tb.add_row([\"LR+RandomForest\", 100, 0.6328])\n",
    "tb.add_row([\"LR+SVM\", 200, 0.6267])\n",
    "print(tb)"
   ]
  },
  {
   "cell_type": "markdown",
   "id": "cceb14d0",
   "metadata": {},
   "source": [
    "## Observation:\n",
    "<ul>\n",
    "    <li> Best custom model was RandomForest on top of Logistic Regression with CV F1 score of 0.6328 </li>\n",
    "</ul>"
   ]
  },
  {
   "cell_type": "markdown",
   "id": "8f60d141",
   "metadata": {},
   "source": [
    "# 5. Best RandomForest stack classifier"
   ]
  },
  {
   "cell_type": "code",
   "execution_count": 34,
   "id": "8b42f4ee",
   "metadata": {},
   "outputs": [
    {
     "data": {
      "text/plain": [
       "RandomForestClassifier(class_weight='balanced', n_estimators=1000)"
      ]
     },
     "execution_count": 34,
     "metadata": {},
     "output_type": "execute_result"
    }
   ],
   "source": [
    "# Generating models\n",
    "models = get_kmodels(D1_50, y1_50, 100, 1200)\n",
    "\n",
    "# Generating meta-data\n",
    "x_meta = generate_data(D2_50, models)\n",
    "y_meta = y2_50\n",
    "\n",
    "best_forest.fit(x_meta, y_meta)"
   ]
  },
  {
   "cell_type": "code",
   "execution_count": 35,
   "id": "8f220978",
   "metadata": {},
   "outputs": [
    {
     "name": "stdout",
     "output_type": "stream",
     "text": [
      "Saved all models!\n"
     ]
    }
   ],
   "source": [
    "# Saving all base models\n",
    "for i in range(len(models)):\n",
    "    dump(models[i], 'D:/AI/Case_Studies/Personal_Case_Study_1/Saved_Models/base_learners/base_model'+str(i)+'.joblib')\n",
    "print(\"Saved all models!\")"
   ]
  },
  {
   "cell_type": "code",
   "execution_count": 36,
   "id": "239157cc",
   "metadata": {},
   "outputs": [
    {
     "name": "stdout",
     "output_type": "stream",
     "text": [
      "Model Saved successfully!\n"
     ]
    }
   ],
   "source": [
    "# Saving model\n",
    "dump(best_forest, 'D:/AI/Case_Studies/Personal_Case_Study_1/Saved_Models/best_custom_model.joblib')\n",
    "print(\"Model Saved successfully!\")"
   ]
  },
  {
   "cell_type": "markdown",
   "id": "d0efcc23",
   "metadata": {},
   "source": [
    "# 6. Evaluation Metrics"
   ]
  },
  {
   "cell_type": "code",
   "execution_count": 5,
   "id": "c0bd6dae",
   "metadata": {},
   "outputs": [],
   "source": [
    "# This function plots the confusion matrices given y_i, y_i_hat.\n",
    "def plot_confusion_matrix(test_y, predict_y):\n",
    "    C = confusion_matrix(test_y, predict_y)\n",
    "    # C = 9,9 matrix, each cell (i,j) represents number of points of class i are predicted class j\n",
    "    \n",
    "    A =(((C.T)/(C.sum(axis=1))).T)\n",
    "    #divide each element of the confusion matrix with the sum of elements in that column\n",
    "    \n",
    "    # C = [[1, 2],\n",
    "    #     [3, 4]]\n",
    "    # C.T = [[1, 3],\n",
    "    #        [2, 4]]\n",
    "    # C.sum(axis = 1)  axis=0 corresonds to columns and axis=1 corresponds to rows in two diamensional array\n",
    "    # C.sum(axix =1) = [[3, 7]]\n",
    "    # ((C.T)/(C.sum(axis=1))) = [[1/3, 3/7]\n",
    "    #                           [2/3, 4/7]]\n",
    "\n",
    "    # ((C.T)/(C.sum(axis=1))).T = [[1/3, 2/3]\n",
    "    #                           [3/7, 4/7]]\n",
    "    # sum of row elements = 1\n",
    "    \n",
    "    B =(C/C.sum(axis=0))\n",
    "    #divid each element of the confusion matrix with the sum of elements in that row\n",
    "    # C = [[1, 2],\n",
    "    #     [3, 4]]\n",
    "    # C.sum(axis = 0)  axis=0 corresonds to columns and axis=1 corresponds to rows in two diamensional array\n",
    "    # C.sum(axix =0) = [[4, 6]]\n",
    "    # (C/C.sum(axis=0)) = [[1/4, 2/6],\n",
    "    #                      [3/4, 4/6]] \n",
    "    plt.figure(figsize=(20,4))\n",
    "    \n",
    "    labels = [0,1]\n",
    "    # representing A in heatmap format\n",
    "    cmap=sns.light_palette(\"blue\")\n",
    "    plt.subplot(1, 3, 1)\n",
    "    sns.heatmap(C, annot=True, cmap=cmap, fmt=\".3f\", xticklabels=labels, yticklabels=labels)\n",
    "    plt.xlabel('Predicted Class')\n",
    "    plt.ylabel('Original Class')\n",
    "    plt.title(\"Confusion matrix\")\n",
    "    \n",
    "    plt.subplot(1, 3, 2)\n",
    "    sns.heatmap(B, annot=True, cmap=cmap, fmt=\".3f\", xticklabels=labels, yticklabels=labels)\n",
    "    plt.xlabel('Predicted Class')\n",
    "    plt.ylabel('Original Class')\n",
    "    plt.title(\"Precision matrix\")\n",
    "    \n",
    "    plt.subplot(1, 3, 3)\n",
    "    # representing B in heatmap format\n",
    "    sns.heatmap(A, annot=True, cmap=cmap, fmt=\".3f\", xticklabels=labels, yticklabels=labels)\n",
    "    plt.xlabel('Predicted Class')\n",
    "    plt.ylabel('Original Class')\n",
    "    plt.title(\"Recall matrix\")\n",
    "    \n",
    "    plt.show()"
   ]
  },
  {
   "cell_type": "markdown",
   "id": "a7f8ab58",
   "metadata": {},
   "source": [
    "# 7. Predictions on test data with custom model"
   ]
  },
  {
   "cell_type": "code",
   "execution_count": 6,
   "id": "e5125b24",
   "metadata": {},
   "outputs": [],
   "source": [
    "# Loading base learners\n",
    "files = os.listdir('D:/AI/Case_Studies/Personal_Case_Study_1/Saved_Models/base_learners')\n",
    "models = []\n",
    "for model in files:\n",
    "    clf = load('D:/AI/Case_Studies/Personal_Case_Study_1/Saved_Models/base_learners/'+model)\n",
    "    models.append(clf)"
   ]
  },
  {
   "cell_type": "code",
   "execution_count": 7,
   "id": "79ef31bc",
   "metadata": {},
   "outputs": [
    {
     "data": {
      "text/plain": [
       "RandomForestClassifier(class_weight='balanced', n_estimators=1000)"
      ]
     },
     "execution_count": 7,
     "metadata": {},
     "output_type": "execute_result"
    }
   ],
   "source": [
    "# Loading custom model\n",
    "stacked_clf = load('D:/AI/Case_Studies/Personal_Case_Study_1/Saved_Models/best_custom_model.joblib')\n",
    "stacked_clf"
   ]
  },
  {
   "cell_type": "code",
   "execution_count": 8,
   "id": "533d7a1a",
   "metadata": {},
   "outputs": [],
   "source": [
    "x_meta = generate_data(X_test, models)\n",
    "y_test_pred = stacked_clf.predict(x_meta)\n",
    "y_test_prob = stacked_clf.predict_proba(x_meta)"
   ]
  },
  {
   "cell_type": "code",
   "execution_count": 9,
   "id": "7454c8e5",
   "metadata": {},
   "outputs": [
    {
     "data": {
      "image/png": "[encoded data removed]",
      "text/plain": [
       "<Figure size 1440x288 with 6 Axes>"
      ]
     },
     "metadata": {
      "needs_background": "light"
     },
     "output_type": "display_data"
    },
    {
     "name": "stdout",
     "output_type": "stream",
     "text": [
      "F1 score for test data:  0.6604651162790697\n",
      "Recall for test data:  0.7029702970297029\n",
      "Precision for test data:  0.6228070175438597\n"
     ]
    }
   ],
   "source": [
    "plot_confusion_matrix(y_test, y_test_pred)\n",
    "print(\"F1 score for test data: \", f1_score(y_test, y_test_pred))\n",
    "print(\"Recall for test data: \", recall_score(y_test, y_test_pred))\n",
    "print(\"Precision for test data: \", precision_score(y_test, y_test_pred))"
   ]
  },
  {
   "cell_type": "code",
   "execution_count": 10,
   "id": "5c20aaf2",
   "metadata": {},
   "outputs": [
    {
     "data": {
      "image/png": "[encoded data removed]",
      "text/plain": [
       "<Figure size 432x288 with 1 Axes>"
      ]
     },
     "metadata": {
      "needs_background": "light"
     },
     "output_type": "display_data"
    }
   ],
   "source": [
    "# AUC Score\n",
    "test_fpr_tfidf, test_tpr_tfidf, te_thresholds_tfidf = roc_curve(y_test, y_test_prob[:, 1])\n",
    "\n",
    "plt.plot(test_fpr_tfidf, test_tpr_tfidf, label=\"test AUC =\"+str(auc(test_fpr_tfidf, test_tpr_tfidf)))\n",
    "plt.legend()\n",
    "plt.xlabel(\"False Positive Rate\")\n",
    "plt.ylabel(\"True Positive Rate\")\n",
    "plt.title(\"ROC Curve(Stacked Classifier)\")\n",
    "plt.grid()\n",
    "plt.show()"
   ]
  },
  {
   "cell_type": "markdown",
   "id": "7f5e9618",
   "metadata": {},
   "source": [
    "# 8. Predictions on test data with Logistic Regression model"
   ]
  },
  {
   "cell_type": "code",
   "execution_count": 11,
   "id": "01aec6a0",
   "metadata": {},
   "outputs": [],
   "source": [
    "# Predictions with logistic regression on test data\n",
    "log_model = load('D:/AI/Case_Studies/Personal_Case_Study_1/Saved_Models/best_logreg_model.joblib')\n",
    "y_pred_logistic = log_model.predict(X_test)\n",
    "y_prob_logistic = log_model.predict_proba(X_test)"
   ]
  },
  {
   "cell_type": "code",
   "execution_count": 12,
   "id": "ce5d75f7",
   "metadata": {},
   "outputs": [
    {
     "data": {
      "image/png": "[encoded data removed]",
      "text/plain": [
       "<Figure size 1440x288 with 6 Axes>"
      ]
     },
     "metadata": {
      "needs_background": "light"
     },
     "output_type": "display_data"
    },
    {
     "name": "stdout",
     "output_type": "stream",
     "text": [
      "F1 score for test data:  0.5979381443298969\n",
      "Recall for test data:  0.8613861386138614\n",
      "Precision for test data:  0.45789473684210524\n"
     ]
    }
   ],
   "source": [
    "plot_confusion_matrix(y_test, y_pred_logistic)\n",
    "print(\"F1 score for test data: \", f1_score(y_test, y_pred_logistic))\n",
    "print(\"Recall for test data: \", recall_score(y_test, y_pred_logistic))\n",
    "print(\"Precision for test data: \", precision_score(y_test, y_pred_logistic))"
   ]
  },
  {
   "cell_type": "code",
   "execution_count": 13,
   "id": "b72f0f5d",
   "metadata": {},
   "outputs": [
    {
     "data": {
      "image/png": "[encoded data removed]",
      "text/plain": [
       "<Figure size 432x288 with 1 Axes>"
      ]
     },
     "metadata": {
      "needs_background": "light"
     },
     "output_type": "display_data"
    }
   ],
   "source": [
    "# AUC Score\n",
    "test_fpr_tfidf, test_tpr_tfidf, te_thresholds_tfidf = roc_curve(y_test, y_prob_logistic[:, 1])\n",
    "\n",
    "plt.plot(test_fpr_tfidf, test_tpr_tfidf, label=\"test AUC =\"+str(auc(test_fpr_tfidf, test_tpr_tfidf)))\n",
    "plt.legend()\n",
    "plt.xlabel(\"False Positive Rate\")\n",
    "plt.ylabel(\"True Positive Rate\")\n",
    "plt.title(\"ROC Curve(Logistic Regression)\")\n",
    "plt.grid()\n",
    "plt.show()"
   ]
  },
  {
   "cell_type": "markdown",
   "id": "7bc4ca4a",
   "metadata": {},
   "source": [
    "# 9. Custom Model vs Logistic Regression"
   ]
  },
  {
   "cell_type": "code",
   "execution_count": 14,
   "id": "78bc77ad",
   "metadata": {},
   "outputs": [
    {
     "name": "stdout",
     "output_type": "stream",
     "text": [
      "+---------------------+-----------------+-----------------+--------+-----------+--------+--------+\n",
      "|      Model Name     | False Negatives | False Positives | Recall | Precision |   F1   |  AUC   |\n",
      "+---------------------+-----------------+-----------------+--------+-----------+--------+--------+\n",
      "| Logistic Regression |        14       |       103       | 0.8614 |   0.4579  | 0.5979 | 0.9572 |\n",
      "|   LR+RandomForest   |        30       |        43       | 0.703  |   0.6228  | 0.6605 | 0.8845 |\n",
      "+---------------------+-----------------+-----------------+--------+-----------+--------+--------+\n"
     ]
    }
   ],
   "source": [
    "from prettytable import PrettyTable\n",
    "tb = PrettyTable()\n",
    "tb.field_names= (\"Model Name\", \"False Negatives\", \"False Positives\", \"Recall\", \"Precision\", \"F1\", \"AUC\")\n",
    "tb.add_row([\"Logistic Regression\", 14, 103, 0.8614, 0.4579, 0.5979, 0.9572])\n",
    "tb.add_row([\"LR+RandomForest\", 30, 43, 0.7030, 0.6228, 0.6605, 0.8845])\n",
    "print(tb)"
   ]
  },
  {
   "cell_type": "markdown",
   "id": "9fd8e44d",
   "metadata": {},
   "source": [
    "## Observations:\n",
    "<ul>\n",
    "    <li> The no. of false negatives in Logistic Regression model is significantly lesser than custom model but the custom model has significantly lesser false positives, resulting in a better F1 score. The no. of mis-classifications in custom model is less.\n",
    "</ul>"
   ]
  }
 ],
 "metadata": {
  "kernelspec": {
   "display_name": "Python 3",
   "language": "python",
   "name": "python3"
  },
  "language_info": {
   "codemirror_mode": {
    "name": "ipython",
    "version": 3
   },
   "file_extension": ".py",
   "mimetype": "text/x-python",
   "name": "python",
   "nbconvert_exporter": "python",
   "pygments_lexer": "ipython3",
   "version": "3.8.8"
  }
 },
 "nbformat": 4,
 "nbformat_minor": 5
}
